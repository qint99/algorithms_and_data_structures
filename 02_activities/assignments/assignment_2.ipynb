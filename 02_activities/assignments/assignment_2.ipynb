{
 "cells": [
  {
   "cell_type": "markdown",
   "metadata": {},
   "source": [
    "# Practice Interview\n",
    "\n",
    "## Objective\n",
    "\n",
    "_*The partner assignment aims to provide participants with the opportunity to practice coding in an interview context. You will analyze your partner's Assignment 1. Moreover, code reviews are common practice in a software development team. This assignment should give you a taste of the code review process.*_\n",
    "\n",
    "## Group Size\n",
    "\n",
    "Each group should have 2 people. You will be assigned a partner\n",
    "\n",
    "## Part 1:\n",
    "\n",
    "You and your partner must share each other's Assignment 1 submission."
   ]
  },
  {
   "cell_type": "markdown",
   "metadata": {},
   "source": [
    "\n",
    "## Part 2:\n",
    "\n",
    "Create a Jupyter Notebook, create 6 of the following headings, and complete the following for your partner's assignment 1:\n",
    "\n",
    "-   Paraphrase the problem in your own words.\n"
   ]
  },
  {
   "cell_type": "code",
   "execution_count": null,
   "metadata": {},
   "outputs": [],
   "source": [
    "# Your answer here\n"
   ]
  },
  {
   "cell_type": "markdown",
   "metadata": {},
   "source": [
    "Problem 1 defines a binary tree class TreeNode, which represents the structure of a tree node. \n",
    "\n",
    "Each node in the tree contains an integer value and may have left and right child nodes. The goal is to implement a function is_duplicate that checks whether there are any duplicate nodes in the binary tree. \n",
    "\n",
    "If a duplicate is found, the function should return the value of the duplicate closest to the root. If there are no duplicates, the function should return -1. The return type is an integer since the function is expected to return a value of type int."
   ]
  },
  {
   "cell_type": "markdown",
   "metadata": {},
   "source": [
    "\n",
    "-   Create 1 new example that demonstrates you understand the problem. Trace/walkthrough 1 example that your partner made and explain it.\n"
   ]
  },
  {
   "cell_type": "code",
   "execution_count": null,
   "metadata": {},
   "outputs": [],
   "source": [
    "# Your answer here"
   ]
  },
  {
   "cell_type": "markdown",
   "metadata": {},
   "source": [
    "root = [5, 7, 10, 3, 7, 15, 20]\n",
    "output = 7\n",
    "The is_duplicate function starts at the root node with the value 5 and adds it to a set since it’s not already present. It then moves to the left child, 7, and adds it to the set. Next, it moves to the left child of 7, which is 3, and adds it to the set. When it reaches the right child of 7, it encounters another 7, which is already in the set, indicating a duplicate. At this point, the function immediately returns the duplicate value 7 and stops further traversal. Therefore, the output is 7, as it is the first duplicate found in the tree."
   ]
  },
  {
   "cell_type": "markdown",
   "metadata": {},
   "source": [
    "My partner Neethila's first example is : #Input: root = [9, 12, 15, 14, 15, 16, 19]\n",
    "\n",
    "# Output: 15\n",
    "\n",
    "The is_duplicate function would start by examining the root node, which has the value 9. It would then perform a depth-first search (DFS) or pre-order traversal, where it explores the root, followed by the left subtree, and then the right subtree. A set is used to track the values encountered, and initially, the set is empty.\n",
    "\n",
    "Starting from the root node, the function first visits 9 and adds it to the set since it is not already present. It then moves to the left child (12), adds it to the set, and proceeds to its left child (14), which is also added to the set. Next, it moves to the right child of 12 (15) and adds it to the set. However, when the function reaches the left child of 15, it encounters another 15, which is already in the set, indicating a duplicate. At this point, the function immediately returns 15 as the duplicate value closest to the root. Therefore, the function outputs 15 as the result."
   ]
  },
  {
   "cell_type": "markdown",
   "metadata": {},
   "source": [
    "\n",
    "-   Copy the solution your partner wrote. \n"
   ]
  },
  {
   "cell_type": "code",
   "execution_count": null,
   "metadata": {},
   "outputs": [],
   "source": [
    "# Your answer here\n",
    "def is_duplicate(root: TreeNode) -> int:\n",
    "\n",
    "# Using Depth First Search\n",
    "    def depth_first(node, depth, visited):\n",
    "        if not node:\n",
    "            return None \n",
    "        if node.val in visited:\n",
    "            return node.val\n",
    "        visited[node.val] = depth\n",
    "        # Recursively check the left and right subtrees\n",
    "        left_result = depth_first(node.left, depth + 1, visited)\n",
    "        if left_result:\n",
    "            return left_result\n",
    "        \n",
    "        return depth_first(node.right, depth + 1, visited)\n",
    "    \n",
    "    #dictionary to store nodes visited to check for duplicates\n",
    "    visited = {}\n",
    "\n",
    "    # traversal from tree root\n",
    "    output = depth_first(root, 0, visited)\n",
    "\n",
    "    return output if output is not None else -1   "
   ]
  },
  {
   "cell_type": "markdown",
   "metadata": {},
   "source": [
    "\n",
    "-   Explain why their solution works in your own words.\n"
   ]
  },
  {
   "cell_type": "code",
   "execution_count": null,
   "metadata": {},
   "outputs": [],
   "source": [
    "# Your answer here\n"
   ]
  },
  {
   "cell_type": "markdown",
   "metadata": {},
   "source": [
    "Her code works by performing a depth-first search (DFS) to traverse the binary tree and detect duplicates in the node values; it defines a helper function depth_first that takes the current node, the depth of the node, and a dictionary (visited) to track the nodes visited along with their depths, and it recursively checks each node, returning the first duplicate it encounters by comparing each node's value to those stored in the visited dictionary, which keeps track of the values already seen. \n",
    "\n",
    "If a node's value is found in visited, indicating a duplicate, the function immediately returns that value; otherwise, it adds the node's value to the dictionary and continues the search in the left and right subtrees, with the search stopping as soon as a duplicate is found or the traversal is complete. If no duplicate is found by the end of the traversal, the function returns -1. The is_duplicate function initializes the DFS traversal starting from the root with a depth of 0, and the result is the first duplicate found or -1 if no duplicates exist."
   ]
  },
  {
   "cell_type": "markdown",
   "metadata": {},
   "source": [
    "\n",
    "-   Explain the problem’s time and space complexity in your own words.\n"
   ]
  },
  {
   "cell_type": "code",
   "execution_count": null,
   "metadata": {},
   "outputs": [],
   "source": [
    "# Your answer here"
   ]
  },
  {
   "cell_type": "markdown",
   "metadata": {},
   "source": [
    "The time complexity is **O(n)** because the algorithm visits each node once, and checking the dictionary for duplicates is a constant-time operation. The space complexity is **O(n)** due to the `visited` dictionary storing node values and the recursive call stack, which in the worst case (a skewed tree) can go as deep as **n**."
   ]
  },
  {
   "cell_type": "markdown",
   "metadata": {},
   "source": [
    "\n",
    "-   Critique your partner's solution, including explanation, and if there is anything that should be adjusted.\n"
   ]
  },
  {
   "cell_type": "code",
   "execution_count": null,
   "metadata": {},
   "outputs": [],
   "source": [
    "# Your answer here"
   ]
  },
  {
   "cell_type": "markdown",
   "metadata": {},
   "source": [
    "If a duplicate exists in both subtrees (e.g., a duplicate in the left and right subtrees of a node), the function correctly returns the first duplicate encountered. However, it may be more efficient to stop traversing once the first duplicate is found. The current implementation explores both left and right subtrees even after detecting a duplicate in the left, which may not be necessary. This could be adjusted by returning immediately once a duplicate is found, even if it's in the left subtree."
   ]
  },
  {
   "cell_type": "markdown",
   "metadata": {},
   "source": [
    "\n",
    "## Part 3:\n",
    "\n",
    "Please write a 200 word reflection documenting your process from assignment 1, and your presentation and review experience with your partner at the bottom of the Jupyter Notebook under a new heading \"Reflection.\" Again, export this Notebook as pdf.\n"
   ]
  },
  {
   "cell_type": "markdown",
   "metadata": {},
   "source": [
    "### Reflection"
   ]
  },
  {
   "cell_type": "code",
   "execution_count": null,
   "metadata": {},
   "outputs": [],
   "source": [
    "# Your answer here"
   ]
  },
  {
   "cell_type": "markdown",
   "metadata": {},
   "source": [
    "For Assignment 1, I worked on writing a function that finds all the paths from the root to the leaf nodes in a binary tree. I started by defining the TreeNode class to set up the structure of each tree node. After that, I implemented the bt_path function, which uses depth-first search (DFS) to explore the tree and gather all the root-to-leaf paths.\n",
    "\n",
    "The main part of the function is a recursive helper function called dfs. This function adds each node’s value to a path, and whenever it hits a leaf node (a node with no children), it adds a copy of that path to the result. After exploring a node’s children, I backtrack by removing the last node from the path to ensure the DFS explores all possible paths.\n",
    "\n",
    "In the presentation, I explained how DFS and backtracking work in this problem. My partner gave great feedback, especially about handling edge cases like empty trees or trees with just one node. We also talked about how to make sure the function handles these cases properly.\n",
    "\n",
    "Overall, this assignment was a great way to dive deeper into binary tree traversal and recursion, and I’m excited to apply what I learned to other problems."
   ]
  },
  {
   "cell_type": "markdown",
   "metadata": {},
   "source": [
    "\n",
    "## Evaluation Criteria\n",
    "\n",
    "We are looking for the similar points as Assignment 1\n",
    "\n",
    "-   Problem is accurately stated\n",
    "\n",
    "-   New example is correct and easily understandable\n",
    "\n",
    "-   Correctness, time, and space complexity of the coding solution\n",
    "\n",
    "-   Clarity in explaining why the solution works, its time and space complexity\n",
    "\n",
    "-   Quality of critique of your partner's assignment, if necessary\n"
   ]
  },
  {
   "cell_type": "markdown",
   "metadata": {},
   "source": [
    "## Submission Information\n",
    "\n",
    "🚨 **Please review our [Assignment Submission Guide](https://github.com/UofT-DSI/onboarding/blob/main/onboarding_documents/submissions.md)** 🚨 for detailed instructions on how to format, branch, and submit your work. Following these guidelines is crucial for your submissions to be evaluated correctly.\n",
    "\n",
    "### Submission Parameters:\n",
    "* Submission Due Date: `HH:MM AM/PM - DD/MM/YYYY`\n",
    "* The branch name for your repo should be: `assignment-2`\n",
    "* What to submit for this assignment:\n",
    "    * This Jupyter Notebook (assignment_2.ipynb) should be populated and should be the only change in your pull request.\n",
    "* What the pull request link should look like for this assignment: `https://github.com/<your_github_username>/algorithms_and_data_structures/pull/<pr_id>`\n",
    "    * Open a private window in your browser. Copy and paste the link to your pull request into the address bar. Make sure you can see your pull request properly. This helps the technical facilitator and learning support staff review your submission easily.\n",
    "\n",
    "Checklist:\n",
    "- [ ] Created a branch with the correct naming convention.\n",
    "- [ ] Ensured that the repository is public.\n",
    "- [ ] Reviewed the PR description guidelines and adhered to them.\n",
    "- [ ] Verify that the link is accessible in a private browser window.\n",
    "\n",
    "If you encounter any difficulties or have questions, please don't hesitate to reach out to our team via our Slack at `#cohort-3-help`. Our Technical Facilitators and Learning Support staff are here to help you navigate any challenges.\n"
   ]
  }
 ],
 "metadata": {
  "language_info": {
   "name": "python"
  }
 },
 "nbformat": 4,
 "nbformat_minor": 2
}
